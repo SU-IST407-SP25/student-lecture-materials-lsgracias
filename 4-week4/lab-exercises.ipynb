{
 "cells": [
  {
   "cell_type": "markdown",
   "metadata": {},
   "source": [
    "The following exercises use 2019 flight statistics from the United States Department of Transportation’s Bureau of Transportation Statistics (available [here](https://www.transtats.bts.gov/DL_SelectFields.asp?gnoyr_VQ=FMF&QO_fu146_anzr=Nv4%20Pn44vr45) and in this repository as `data/T100_MARKET_ALL_CARRIER.zip`). Each row contains information about a specific route for a given carrier in a given month (e.g., JFK &rarr; LAX on Delta Airlines in January). There are 321,409 rows and 41 columns. Note that you don't need to unzip the file to read it in with `pd.read_csv()`.\n",
    "\n",
    "This continues last week's exercises."
   ]
  },
  {
   "cell_type": "markdown",
   "metadata": {},
   "source": [
    "#### __Exercise 8__:\n",
    "\n",
    "Find the top 5 carriers for median route distance (i.e., for all origin-destination pairs that each carrier has, find the median distance after removing duplicates)."
   ]
  },
  {
   "cell_type": "code",
   "execution_count": 21,
   "metadata": {},
   "outputs": [
    {
     "name": "stdout",
     "output_type": "stream",
     "text": [
      "UNIQUE_CARRIER_NAME\n",
      "Singapore Airlines Ltd.                                      8,068.00\n",
      "Cathay Pacific Airways Ltd.                                  8,020.00\n",
      "Qantas Airways Ltd.                                          7,886.00\n",
      "Longtail Aviation Ltd.                                       7,855.50\n",
      "National Aviation Company of India Limited d/b/a Air India   7,798.00\n",
      "Name: DISTANCE, dtype: float64\n"
     ]
    }
   ],
   "source": [
    "import pandas as pd\n",
    "\n",
    "data = pd.read_csv('./data/T100_MARKET_ALL_CARRIER.zip')\n",
    "\n",
    "\n",
    "df_unique = data.drop_duplicates(subset=['UNIQUE_CARRIER_NAME', 'ORIGIN', 'DISTANCE','DEST'])\n",
    "median_distances = df_unique.groupby('UNIQUE_CARRIER_NAME')['DISTANCE'].median().nlargest(5)\n",
    "\n",
    "print(median_distances)"
   ]
  },
  {
   "cell_type": "markdown",
   "metadata": {},
   "source": [
    "#### __Exercise 9:__ \n",
    "Find the total cargo transported (mail + freight) and mean distance traveled for the 10 carriers that transported the most cargo."
   ]
  },
  {
   "cell_type": "code",
   "execution_count": 29,
   "metadata": {},
   "outputs": [
    {
     "name": "stdout",
     "output_type": "stream",
     "text": [
      "  CARRIER       TOTAL_CARGO  DISTANCE\n",
      "0      5X  9,173,866,790.00  1,030.81\n",
      "1      5Y  3,356,847,309.00  1,900.99\n",
      "2      AA  1,353,074,248.00  1,583.19\n",
      "3      CI    837,079,895.00  5,828.28\n",
      "4      CX    774,177,697.00  7,498.69\n",
      "5      DL  1,129,523,987.00  1,612.69\n",
      "6      FX 12,709,663,842.00  1,121.89\n",
      "7     KAQ  1,272,180,283.00  2,519.58\n",
      "8      PO  1,199,386,139.00  3,111.79\n",
      "9      UA  1,577,891,983.00  1,810.66\n"
     ]
    }
   ],
   "source": [
    "pd.set_option('display.float_format', '{:,.2f}'.format)\n",
    "\n",
    "data['TOTAL_CARGO'] = data['MAIL']+data['FREIGHT']\n",
    "\n",
    "top_10_carriers = data.groupby('CARRIER')['TOTAL_CARGO'].sum().nlargest(10).index\n",
    "\n",
    "top_10_data = data[data['CARRIER'].isin(top_10_carriers)]\n",
    "\n",
    "result = top_10_data.groupby('CARRIER').agg({'TOTAL_CARGO': 'sum', 'DISTANCE': 'mean'}).reset_index()\n",
    "\n",
    "print(result)"
   ]
  },
  {
   "cell_type": "code",
   "execution_count": 27,
   "metadata": {},
   "outputs": [
    {
     "data": {
      "text/html": [
       "<div>\n",
       "<style scoped>\n",
       "    .dataframe tbody tr th:only-of-type {\n",
       "        vertical-align: middle;\n",
       "    }\n",
       "\n",
       "    .dataframe tbody tr th {\n",
       "        vertical-align: top;\n",
       "    }\n",
       "\n",
       "    .dataframe thead th {\n",
       "        text-align: right;\n",
       "    }\n",
       "</style>\n",
       "<table border=\"1\" class=\"dataframe\">\n",
       "  <thead>\n",
       "    <tr style=\"text-align: right;\">\n",
       "      <th></th>\n",
       "      <th>cargo</th>\n",
       "      <th>DISTANCE</th>\n",
       "    </tr>\n",
       "    <tr>\n",
       "      <th>UNIQUE_CARRIER_NAME</th>\n",
       "      <th></th>\n",
       "      <th></th>\n",
       "    </tr>\n",
       "  </thead>\n",
       "  <tbody>\n",
       "    <tr>\n",
       "      <th>Federal Express Corporation</th>\n",
       "      <td>12,709,663,842.00</td>\n",
       "      <td>1,121.89</td>\n",
       "    </tr>\n",
       "    <tr>\n",
       "      <th>United Parcel Service</th>\n",
       "      <td>9,173,866,790.00</td>\n",
       "      <td>1,030.81</td>\n",
       "    </tr>\n",
       "    <tr>\n",
       "      <th>Atlas Air Inc.</th>\n",
       "      <td>3,356,847,309.00</td>\n",
       "      <td>1,900.99</td>\n",
       "    </tr>\n",
       "    <tr>\n",
       "      <th>United Air Lines Inc.</th>\n",
       "      <td>1,577,891,983.00</td>\n",
       "      <td>1,810.66</td>\n",
       "    </tr>\n",
       "    <tr>\n",
       "      <th>American Airlines Inc.</th>\n",
       "      <td>1,353,074,248.00</td>\n",
       "      <td>1,583.19</td>\n",
       "    </tr>\n",
       "    <tr>\n",
       "      <th>Kalitta Air LLC</th>\n",
       "      <td>1,272,180,283.00</td>\n",
       "      <td>2,519.58</td>\n",
       "    </tr>\n",
       "    <tr>\n",
       "      <th>Polar Air Cargo Airways</th>\n",
       "      <td>1,199,386,139.00</td>\n",
       "      <td>3,111.79</td>\n",
       "    </tr>\n",
       "    <tr>\n",
       "      <th>Delta Air Lines Inc.</th>\n",
       "      <td>1,129,523,987.00</td>\n",
       "      <td>1,612.69</td>\n",
       "    </tr>\n",
       "    <tr>\n",
       "      <th>China Airlines Ltd.</th>\n",
       "      <td>837,079,895.00</td>\n",
       "      <td>5,828.28</td>\n",
       "    </tr>\n",
       "    <tr>\n",
       "      <th>Cathay Pacific Airways Ltd.</th>\n",
       "      <td>774,177,697.00</td>\n",
       "      <td>7,498.69</td>\n",
       "    </tr>\n",
       "  </tbody>\n",
       "</table>\n",
       "</div>"
      ],
      "text/plain": [
       "                                        cargo  DISTANCE\n",
       "UNIQUE_CARRIER_NAME                                    \n",
       "Federal Express Corporation 12,709,663,842.00  1,121.89\n",
       "United Parcel Service        9,173,866,790.00  1,030.81\n",
       "Atlas Air Inc.               3,356,847,309.00  1,900.99\n",
       "United Air Lines Inc.        1,577,891,983.00  1,810.66\n",
       "American Airlines Inc.       1,353,074,248.00  1,583.19\n",
       "Kalitta Air LLC              1,272,180,283.00  2,519.58\n",
       "Polar Air Cargo Airways      1,199,386,139.00  3,111.79\n",
       "Delta Air Lines Inc.         1,129,523,987.00  1,612.69\n",
       "China Airlines Ltd.            837,079,895.00  5,828.28\n",
       "Cathay Pacific Airways Ltd.    774,177,697.00  7,498.69"
      ]
     },
     "execution_count": 27,
     "metadata": {},
     "output_type": "execute_result"
    }
   ],
   "source": [
    "data.assign(cargo=lambda x: x.MAIL + x.FREIGHT)\\\n",
    "    .groupby('UNIQUE_CARRIER_NAME')[['cargo','DISTANCE']]\\\n",
    "    .agg(dict(cargo='sum', DISTANCE='mean')).nlargest(10,'cargo')"
   ]
  },
  {
   "cell_type": "markdown",
   "metadata": {},
   "source": [
    "#### __Exercise 10__:\n",
    "\n",
    "Which 10 carriers flew the most passengers out of the United States to another country?"
   ]
  },
  {
   "cell_type": "code",
   "execution_count": 18,
   "metadata": {},
   "outputs": [
    {
     "name": "stdout",
     "output_type": "stream",
     "text": [
      "  CARRIER    PASSENGERS\n",
      "0      AA 14,867,653.00\n",
      "1      UA 14,427,923.00\n",
      "2      DL 13,054,230.00\n",
      "3      B6  4,522,492.00\n",
      "4      BA  3,758,945.00\n",
      "5      LH  3,123,611.00\n",
      "6      WS  2,626,600.00\n",
      "7      AC  2,540,855.00\n",
      "8      WN  2,146,960.00\n",
      "9      VS  2,074,735.00\n"
     ]
    }
   ],
   "source": [
    "us_to_international = data[(data['ORIGIN_COUNTRY'] == 'US') & (data['DEST_COUNTRY'] != 'US')]\n",
    "top_10_carriers_passengers = us_to_international.groupby('CARRIER')['PASSENGERS'].sum().nlargest(10).reset_index()\n",
    "\n",
    "\n",
    "print(top_10_carriers_passengers)\n"
   ]
  },
  {
   "cell_type": "code",
   "execution_count": 32,
   "metadata": {},
   "outputs": [
    {
     "name": "stdout",
     "output_type": "stream",
     "text": [
      "UNIQUE_CARRIER_NAME\n",
      "American Airlines Inc.      14,867,653.00\n",
      "United Air Lines Inc.       14,427,923.00\n",
      "Delta Air Lines Inc.        13,054,230.00\n",
      "JetBlue Airways              4,522,492.00\n",
      "British Airways Plc          3,758,945.00\n",
      "Lufthansa German Airlines    3,123,611.00\n",
      "Westjet                      2,626,600.00\n",
      "Air Canada                   2,540,855.00\n",
      "Southwest Airlines Co.       2,146,960.00\n",
      "Virgin Atlantic Airways      2,074,735.00\n",
      "Name: PASSENGERS, dtype: float64\n"
     ]
    }
   ],
   "source": [
    "top_10_passengers = data\\\n",
    "    .query('ORIGIN_COUNTRY_NAME == \"United States\" and DEST_COUNTRY_NAME != \"United States\"')\\\n",
    "    .groupby('UNIQUE_CARRIER_NAME')['PASSENGERS'].sum().nlargest(10)\n",
    "\n",
    "print(top_10_passengers)"
   ]
  }
 ],
 "metadata": {
  "kernelspec": {
   "display_name": "Python 3",
   "language": "python",
   "name": "python3"
  },
  "language_info": {
   "codemirror_mode": {
    "name": "ipython",
    "version": 3
   },
   "file_extension": ".py",
   "mimetype": "text/x-python",
   "name": "python",
   "nbconvert_exporter": "python",
   "pygments_lexer": "ipython3",
   "version": "3.12.1"
  }
 },
 "nbformat": 4,
 "nbformat_minor": 2
}
